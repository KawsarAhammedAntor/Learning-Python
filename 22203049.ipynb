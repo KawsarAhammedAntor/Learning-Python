{
 "cells": [
  {
   "cell_type": "markdown",
   "id": "c46c1931",
   "metadata": {},
   "source": [
    "Question 3"
   ]
  },
  {
   "cell_type": "markdown",
   "id": "c6189247",
   "metadata": {},
   "source": [
    "The differences between Python lists, tuples, sets, and dictionaries, including their mutability, order preservation, support for duplicate elements, and practical use-case examples for each.\n",
    "\n",
    "1) Lists\n",
    "\n",
    "Mutability: Mutable, changable after creating.\n",
    "Order: Preserves order, does maintain their insertion order.\n",
    "Duplicates: Supports duplicate elements.\n",
    "Use Case: Storing a collection of items where order matters and duplicates are allowed. For example, a shopping list.\n",
    "\n",
    "2) Tuples\n",
    "\n",
    "Mutability: Immutable, is not changable after creating.\n",
    "Order: Preserves order, does maintain their insertion order.\n",
    "Duplicates: Supports duplicate elements.\n",
    "Use Case: Storing a fixed collection of items that should not change, such as coordinates in a 2D spac.\n",
    "\n",
    "3) Sets\n",
    "\n",
    "Mutability: Mutable, changable after creating.\n",
    "Order: Does not preserve order, does not follow insertion orde.\n",
    "Duplicates: Does not support duplicate elements, only unique elements are stored.\n",
    "Use Case: Storing a collection of unique items, such as a list of unique user IDs.\n",
    "\n",
    "4) Dictionaries\n",
    "\n",
    "Mutability: Mutable, changable after making.\n",
    "Order: Preserves order, some vertion of python follow insertion order and some of the vertion does not follow the insertion order.\n",
    "Duplicates: Does not support duplicate keys (but values can be duplicated).\n",
    "Use Case: Storing key-value pairs, such as a phone book where names are keys and phone numbers are values."
   ]
  },
  {
   "cell_type": "markdown",
   "id": "54f009a5",
   "metadata": {},
   "source": [
    "Question 1"
   ]
  },
  {
   "cell_type": "code",
   "execution_count": 24,
   "id": "390b5cfa",
   "metadata": {},
   "outputs": [],
   "source": [
    "import re\n",
    "def is_palindrome(s: str) -> bool:\n",
    "    \n",
    "    cleaned_string = re.sub(r'[^a-zA-Z0-9]', '', s).lower()\n",
    "    if not cleaned_string:\n",
    "        return True\n",
    "    return cleaned_string == cleaned_string[::-1]"
   ]
  },
  {
   "cell_type": "markdown",
   "id": "df75db02",
   "metadata": {},
   "source": [
    "Question 2"
   ]
  },
  {
   "cell_type": "code",
   "execution_count": 25,
   "id": "08b50e44",
   "metadata": {},
   "outputs": [
    {
     "name": "stdout",
     "output_type": "stream",
     "text": [
      "Count of even numbers: 3\n",
      "Sum of odd numbers: 36\n"
     ]
    }
   ],
   "source": [
    "nums = [3, 8, 12, 5, 7, 10, 21]\n",
    "\n",
    "even_count = 0\n",
    "odd_sum = 0\n",
    "\n",
    "for num in nums:\n",
    "    if num % 2 == 0:  \n",
    "        even_count += 1\n",
    "    else: \n",
    "        odd_sum += num\n",
    "        \n",
    "print(f\"Count of even numbers: {even_count}\")\n",
    "print(f\"Sum of odd numbers: {odd_sum}\")\n"
   ]
  },
  {
   "cell_type": "markdown",
   "id": "d6b3394f",
   "metadata": {},
   "source": [
    "Question 4"
   ]
  },
  {
   "cell_type": "code",
   "execution_count": 26,
   "id": "9f397243",
   "metadata": {},
   "outputs": [
    {
     "name": "stdout",
     "output_type": "stream",
     "text": [
      "Squared using named function: [1, 4, 9, 16, 25]\n",
      "Doubled using lambda expression: [2, 4, 6, 8, 10]\n"
     ]
    }
   ],
   "source": [
    "from typing import Callable, List\n",
    "\n",
    "def apply_func(data: List[int], func: Callable[[int], int]) -> List[int]:\n",
    "    \n",
    "    return [func(x) for x in data]\n",
    "\n",
    "\n",
    "def square(x: int) -> int:\n",
    "    return x * x\n",
    "\n",
    "\n",
    "if __name__ == \"__main__\":\n",
    "    nums = [1, 2, 3, 4, 5]\n",
    "\n",
    "    squared_nums = apply_func(nums, square)\n",
    "    print(\"Squared using named function:\", squared_nums)\n",
    "\n",
    "    doubled_nums = apply_func(nums, lambda x: x * 2)\n",
    "    print(\"Doubled using lambda expression:\", doubled_nums)\n"
   ]
  }
 ],
 "metadata": {
  "kernelspec": {
   "display_name": "Python 3",
   "language": "python",
   "name": "python3"
  },
  "language_info": {
   "codemirror_mode": {
    "name": "ipython",
    "version": 3
   },
   "file_extension": ".py",
   "mimetype": "text/x-python",
   "name": "python",
   "nbconvert_exporter": "python",
   "pygments_lexer": "ipython3",
   "version": "3.13.3"
  }
 },
 "nbformat": 4,
 "nbformat_minor": 5
}

{
 "cells": [
  {
   "cell_type": "markdown",
   "id": "2747464e",
   "metadata": {},
   "source": [
    "Sets and Tuples\n"
   ]
  },
  {
   "cell_type": "code",
   "execution_count": null,
   "id": "d72e4a78",
   "metadata": {},
   "outputs": [],
   "source": []
  },
  {
   "cell_type": "code",
   "execution_count": null,
   "id": "5fddda00",
   "metadata": {},
   "outputs": [],
   "source": []
  }
 ],
 "metadata": {
  "language_info": {
   "name": "python"
  }
 },
 "nbformat": 4,
 "nbformat_minor": 5
}
